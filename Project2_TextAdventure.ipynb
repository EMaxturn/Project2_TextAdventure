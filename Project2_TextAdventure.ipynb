{
  "nbformat": 4,
  "nbformat_minor": 0,
  "metadata": {
    "colab": {
      "provenance": [],
      "authorship_tag": "ABX9TyPu6a46vE/p0fSCMVjZUzgx",
      "include_colab_link": true
    },
    "kernelspec": {
      "name": "python3",
      "display_name": "Python 3"
    },
    "language_info": {
      "name": "python"
    }
  },
  "cells": [
    {
      "cell_type": "markdown",
      "metadata": {
        "id": "view-in-github",
        "colab_type": "text"
      },
      "source": [
        "<a href=\"https://colab.research.google.com/github/EMaxturn/Project2_TextAdventure/blob/main/Project2_TextAdventure.ipynb\" target=\"_parent\"><img src=\"https://colab.research.google.com/assets/colab-badge.svg\" alt=\"Open In Colab\"/></a>"
      ]
    },
    {
      "cell_type": "code",
      "source": [
        "print(\"~~When in Rome~~\")\n",
        "print(\"A Work of Fiction\\n\")\n",
        "\n",
        "#Introduce the story, and present three stories/paths the user can take.\n",
        "\n",
        "print(\"In the year 60 BCE, you are a Praetorian Guard in the City of Rome.\\n\")\n",
        "print(\"You decide to go on a walk, to fully experience your prized citizenship.\\n\")\n",
        "\n",
        "print(\"You are outside in the City's Plaza, and encounter three people who need your help. You can talk to: \")\n",
        "\n",
        "print(\"\\tA: The local ferrari, who wants to replicate a legendary greatsword.\")\n",
        "\n",
        "print(\"\\tB: The senator, who owes his position to patrician backers.\")\n",
        "\n",
        "print(\"\\tC: The consul, who needs a valiant crusader.\")\n",
        "\n",
        "#Collect story path from user. They must only select one scenario.\n",
        "\n",
        "story_path = input(\"Who do you choose? Please select 'A', 'B, or 'C': \")\n",
        "\n",
        "#If they choose the ferrari, give the user a multiple choice question\n",
        "\n",
        "if story_path == 'A':\n",
        "\n",
        "  print(\"\\nYou approach the ferrari.\\n\")\n",
        "\n",
        "  print(\"They tell you that a mythical sword was carried from its home during the last flood.\\n\")\n",
        "\n",
        "# Give the user choices for where to look for the ferrari's sword.\n",
        "\n",
        "  location = input(\"You decide to hunt it down: \")\n",
        "\n",
        "  print(\"\\tA: In the labyrinthian network of mines beneath the city.\")\n",
        "\n",
        "  print(\"\\tB: Along the riverbank, near the aqueduct outflow.\")\n",
        "\n",
        "  print(\"\\tC: In the estate district.\")\n",
        "\n",
        "# If they choose 'B' give them a success. Otherwise they fail.\n",
        "\n",
        "  if location == 'B':\n",
        "    print(\"You wipe sweat from your brow, walking southward from the river outflow.\")\n",
        "    print(\"In the distance is a glittering pillar of steel, warbling like an apparition in the summer heat.\")\n",
        "    print(\"You return it to the ferrari and he jumps for joy! As a reward, you are given 10 gold aureus.\")\n",
        "  elif location == 'A':\n",
        "    print(\"After wandering through the mines for days, you reemerge empty-handed.\")\n",
        "    print(\"Perhaps the sword was swept out to the river by the current.\")\n",
        "  else:\n",
        "    print(\"After wandering through the estate district for days, you come up empty-handed.\")\n",
        "    print(\"Perhaps the sword was swept out to the river by the flood.\")\n",
        "\n",
        "elif story_path == 'B':\n",
        "\n",
        "  print(\"\\nYou approach Cicero, who needs help totalling his debts.\\n\")\n",
        "  print(\"'You there! I owe a faction of patricians lots of money, but I cannot add these Roman numerals!'I need to total my debtsI need  Julius Tulius 283 denarri, \")\n",
        "\n"
      ],
      "metadata": {
        "colab": {
          "base_uri": "https://localhost:8080/"
        },
        "id": "U5XeBZH25sT9",
        "outputId": "e38145bb-43ae-409f-fdfd-a16079b4bcb1"
      },
      "execution_count": null,
      "outputs": [
        {
          "metadata": {
            "tags": null
          },
          "name": "stdout",
          "output_type": "stream",
          "text": [
            "~~When in Rome~~\n",
            "A Work of Fiction\n",
            "\n",
            "In the year 60 BCE, you are a Praetorian Guard in the City of Rome.\n",
            "You decide to go on a walk, to fully experience your prized citizenship.\n",
            "You are outside in the City's Plaza, and encounter three people who need your help. You can talk to: \n",
            "\tA: The local ferrari, who wants to replicate a legendary greatsword.\n",
            "\tB: The orator & statesman Cicero, who has a central question.\n",
            "\tC: The senator Cato, who needs a valiant crusader.\n",
            "\n",
            "You approach the ferrari.\n",
            "They tell you that a mythical sword was carried from its home during the last flood.\n",
            "\n"
          ]
        }
      ]
    }
  ]
}